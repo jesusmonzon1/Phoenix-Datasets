{
 "cells": [
  {
   "cell_type": "code",
   "execution_count": 2,
   "id": "1917bc0b",
   "metadata": {},
   "outputs": [],
   "source": [
    "import pandas as pd\n",
    "import numpy as np"
   ]
  },
  {
   "cell_type": "code",
   "execution_count": 3,
   "id": "3a855ce6",
   "metadata": {},
   "outputs": [],
   "source": [
    "df = pd.read_csv('phxcrime.csv', dtype={'INC NUMBER': 'str'})"
   ]
  },
  {
   "cell_type": "code",
   "execution_count": 24,
   "id": "9a1f562d",
   "metadata": {},
   "outputs": [
    {
     "name": "stdout",
     "output_type": "stream",
     "text": [
      "        INC NUMBER        OCCURRED ON        OCCURRED TO   UCR CRIME CATEGORY  \\\n",
      "0  201600000594484  11/01/2015  00:00                NaN                 RAPE   \n",
      "1  201500002102327  11/01/2015  00:00  11/01/2015  09:00        LARCENY-THEFT   \n",
      "2  201500002168686  11/01/2015  00:00  11/11/2015  09:30        LARCENY-THEFT   \n",
      "3  201500002102668  11/01/2015  00:00  11/01/2015  11:50  MOTOR VEHICLE THEFT   \n",
      "4  201600000052855  11/01/2015  00:00  01/09/2016  00:00  MOTOR VEHICLE THEFT   \n",
      "\n",
      "             100 BLOCK ADDR      ZIP         PREMISE TYPE  GRID  \n",
      "0         13XX E ALMERIA RD  85006.0  SINGLE FAMILY HOUSE  BD30  \n",
      "1            51XX N 15TH ST  85014.0            APARTMENT  BJ30  \n",
      "2       14XX E HIGHLAND AVE  85014.0          PARKING LOT  BI30  \n",
      "3            69XX W WOOD ST  85043.0  SINGLE FAMILY HOUSE  AF12  \n",
      "4  N 43RD AVE & W CACTUS RD  85029.0  SINGLE FAMILY HOUSE  DA19  \n"
     ]
    }
   ],
   "source": [
    "print(df.head())"
   ]
  },
  {
   "cell_type": "code",
   "execution_count": 23,
   "id": "0ac87dd5",
   "metadata": {},
   "outputs": [
    {
     "data": {
      "text/html": [
       "<div>\n",
       "<style scoped>\n",
       "    .dataframe tbody tr th:only-of-type {\n",
       "        vertical-align: middle;\n",
       "    }\n",
       "\n",
       "    .dataframe tbody tr th {\n",
       "        vertical-align: top;\n",
       "    }\n",
       "\n",
       "    .dataframe thead th {\n",
       "        text-align: right;\n",
       "    }\n",
       "</style>\n",
       "<table border=\"1\" class=\"dataframe\">\n",
       "  <thead>\n",
       "    <tr style=\"text-align: right;\">\n",
       "      <th></th>\n",
       "      <th>OCCURRED ON</th>\n",
       "      <th>UCR CRIME CATEGORY</th>\n",
       "    </tr>\n",
       "  </thead>\n",
       "  <tbody>\n",
       "    <tr>\n",
       "      <th>0</th>\n",
       "      <td>11/01/2015  00:00</td>\n",
       "      <td>RAPE</td>\n",
       "    </tr>\n",
       "    <tr>\n",
       "      <th>1</th>\n",
       "      <td>11/01/2015  00:00</td>\n",
       "      <td>LARCENY-THEFT</td>\n",
       "    </tr>\n",
       "    <tr>\n",
       "      <th>2</th>\n",
       "      <td>11/01/2015  00:00</td>\n",
       "      <td>LARCENY-THEFT</td>\n",
       "    </tr>\n",
       "    <tr>\n",
       "      <th>3</th>\n",
       "      <td>11/01/2015  00:00</td>\n",
       "      <td>MOTOR VEHICLE THEFT</td>\n",
       "    </tr>\n",
       "    <tr>\n",
       "      <th>4</th>\n",
       "      <td>11/01/2015  00:00</td>\n",
       "      <td>MOTOR VEHICLE THEFT</td>\n",
       "    </tr>\n",
       "    <tr>\n",
       "      <th>...</th>\n",
       "      <td>...</td>\n",
       "      <td>...</td>\n",
       "    </tr>\n",
       "    <tr>\n",
       "      <th>475374</th>\n",
       "      <td>03/12/2023  22:00</td>\n",
       "      <td>AGGRAVATED ASSAULT</td>\n",
       "    </tr>\n",
       "    <tr>\n",
       "      <th>475375</th>\n",
       "      <td>03/12/2023  22:30</td>\n",
       "      <td>BURGLARY</td>\n",
       "    </tr>\n",
       "    <tr>\n",
       "      <th>475376</th>\n",
       "      <td>03/12/2023  22:45</td>\n",
       "      <td>LARCENY-THEFT</td>\n",
       "    </tr>\n",
       "    <tr>\n",
       "      <th>475377</th>\n",
       "      <td>03/12/2023  23:00</td>\n",
       "      <td>LARCENY-THEFT</td>\n",
       "    </tr>\n",
       "    <tr>\n",
       "      <th>475378</th>\n",
       "      <td>03/12/2023  23:03</td>\n",
       "      <td>ROBBERY</td>\n",
       "    </tr>\n",
       "  </tbody>\n",
       "</table>\n",
       "<p>475379 rows × 2 columns</p>\n",
       "</div>"
      ],
      "text/plain": [
       "              OCCURRED ON   UCR CRIME CATEGORY\n",
       "0       11/01/2015  00:00                 RAPE\n",
       "1       11/01/2015  00:00        LARCENY-THEFT\n",
       "2       11/01/2015  00:00        LARCENY-THEFT\n",
       "3       11/01/2015  00:00  MOTOR VEHICLE THEFT\n",
       "4       11/01/2015  00:00  MOTOR VEHICLE THEFT\n",
       "...                   ...                  ...\n",
       "475374  03/12/2023  22:00   AGGRAVATED ASSAULT\n",
       "475375  03/12/2023  22:30             BURGLARY\n",
       "475376  03/12/2023  22:45        LARCENY-THEFT\n",
       "475377  03/12/2023  23:00        LARCENY-THEFT\n",
       "475378  03/12/2023  23:03              ROBBERY\n",
       "\n",
       "[475379 rows x 2 columns]"
      ]
     },
     "execution_count": 23,
     "metadata": {},
     "output_type": "execute_result"
    }
   ],
   "source": [
    "df.drop(columns=['INC NUMBER','OCCURRED TO','GRID','100 BLOCK ADDR','ZIP','PREMISE TYPE'])"
   ]
  },
  {
   "cell_type": "code",
   "execution_count": 11,
   "id": "2463af4f",
   "metadata": {},
   "outputs": [
    {
     "name": "stdout",
     "output_type": "stream",
     "text": [
      "['RAPE' 'LARCENY-THEFT' 'MOTOR VEHICLE THEFT' 'DRUG OFFENSE' 'BURGLARY'\n",
      " 'AGGRAVATED ASSAULT' 'MURDER AND NON-NEGLIGENT MANSLAUGHTER' 'ROBBERY'\n",
      " 'ARSON']\n"
     ]
    }
   ],
   "source": [
    "print(df['UCR CRIME CATEGORY'].unique())"
   ]
  },
  {
   "cell_type": "code",
   "execution_count": 19,
   "id": "dada77dd",
   "metadata": {},
   "outputs": [
    {
     "name": "stdout",
     "output_type": "stream",
     "text": [
      "98\n"
     ]
    }
   ],
   "source": [
    "print(df['PREMISE TYPE'].nunique())"
   ]
  },
  {
   "cell_type": "code",
   "execution_count": 25,
   "id": "46f26ea2",
   "metadata": {},
   "outputs": [
    {
     "data": {
      "text/html": [
       "<div>\n",
       "<style scoped>\n",
       "    .dataframe tbody tr th:only-of-type {\n",
       "        vertical-align: middle;\n",
       "    }\n",
       "\n",
       "    .dataframe tbody tr th {\n",
       "        vertical-align: top;\n",
       "    }\n",
       "\n",
       "    .dataframe thead th {\n",
       "        text-align: right;\n",
       "    }\n",
       "</style>\n",
       "<table border=\"1\" class=\"dataframe\">\n",
       "  <thead>\n",
       "    <tr style=\"text-align: right;\">\n",
       "      <th></th>\n",
       "      <th>ZIP</th>\n",
       "    </tr>\n",
       "  </thead>\n",
       "  <tbody>\n",
       "    <tr>\n",
       "      <th>count</th>\n",
       "      <td>475373.000000</td>\n",
       "    </tr>\n",
       "    <tr>\n",
       "      <th>mean</th>\n",
       "      <td>85043.852783</td>\n",
       "    </tr>\n",
       "    <tr>\n",
       "      <th>std</th>\n",
       "      <td>69.548433</td>\n",
       "    </tr>\n",
       "    <tr>\n",
       "      <th>min</th>\n",
       "      <td>85003.000000</td>\n",
       "    </tr>\n",
       "    <tr>\n",
       "      <th>25%</th>\n",
       "      <td>85015.000000</td>\n",
       "    </tr>\n",
       "    <tr>\n",
       "      <th>50%</th>\n",
       "      <td>85028.000000</td>\n",
       "    </tr>\n",
       "    <tr>\n",
       "      <th>75%</th>\n",
       "      <td>85041.000000</td>\n",
       "    </tr>\n",
       "    <tr>\n",
       "      <th>max</th>\n",
       "      <td>85396.000000</td>\n",
       "    </tr>\n",
       "  </tbody>\n",
       "</table>\n",
       "</div>"
      ],
      "text/plain": [
       "                 ZIP\n",
       "count  475373.000000\n",
       "mean    85043.852783\n",
       "std        69.548433\n",
       "min     85003.000000\n",
       "25%     85015.000000\n",
       "50%     85028.000000\n",
       "75%     85041.000000\n",
       "max     85396.000000"
      ]
     },
     "execution_count": 25,
     "metadata": {},
     "output_type": "execute_result"
    }
   ],
   "source": [
    "df.describe()"
   ]
  },
  {
   "cell_type": "code",
   "execution_count": null,
   "id": "4585ccdc",
   "metadata": {},
   "outputs": [],
   "source": []
  }
 ],
 "metadata": {
  "kernelspec": {
   "display_name": "Python 3 (ipykernel)",
   "language": "python",
   "name": "python3"
  },
  "language_info": {
   "codemirror_mode": {
    "name": "ipython",
    "version": 3
   },
   "file_extension": ".py",
   "mimetype": "text/x-python",
   "name": "python",
   "nbconvert_exporter": "python",
   "pygments_lexer": "ipython3",
   "version": "3.9.13"
  }
 },
 "nbformat": 4,
 "nbformat_minor": 5
}
